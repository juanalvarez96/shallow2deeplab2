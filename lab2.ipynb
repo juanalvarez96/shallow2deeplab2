{
  "nbformat": 4,
  "nbformat_minor": 0,
  "metadata": {
    "colab": {
      "name": "lab2.ipynb",
      "provenance": [],
      "authorship_tag": "ABX9TyOyp3fdMHxyjIv+HfLFq7bZ",
      "include_colab_link": true
    },
    "kernelspec": {
      "name": "python3",
      "display_name": "Python 3"
    }
  },
  "cells": [
    {
      "cell_type": "markdown",
      "metadata": {
        "id": "view-in-github",
        "colab_type": "text"
      },
      "source": [
        "<a href=\"https://colab.research.google.com/github/juanalvarez96/shallow2deeplab2/blob/master/lab2.ipynb\" target=\"_parent\"><img src=\"https://colab.research.google.com/assets/colab-badge.svg\" alt=\"Open In Colab\"/></a>"
      ]
    },
    {
      "cell_type": "markdown",
      "metadata": {
        "id": "dwQJtXuDVeNf",
        "colab_type": "text"
      },
      "source": [
        "**SECOND PART**"
      ]
    },
    {
      "cell_type": "code",
      "metadata": {
        "id": "SiQwKxsR4d_Z",
        "colab_type": "code",
        "colab": {
          "base_uri": "https://localhost:8080/",
          "height": 617
        },
        "outputId": "7fa3f2eb-bc1b-4ac6-c838-660e59ed5337"
      },
      "source": [
        "!pip uninstall opencv-python\n",
        "!pip uninstall opencv-contrib-python\n",
        "!pip install opencv-python==3.4.2.16\n",
        "!pip install opencv-contrib-python==3.4.2.16"
      ],
      "execution_count": 12,
      "outputs": [
        {
          "output_type": "stream",
          "text": [
            "Uninstalling opencv-python-4.1.2.30:\n",
            "  Would remove:\n",
            "    /usr/local/lib/python3.6/dist-packages/cv2/*\n",
            "    /usr/local/lib/python3.6/dist-packages/opencv_python-4.1.2.30.dist-info/*\n",
            "Proceed (y/n)? y\n",
            "  Successfully uninstalled opencv-python-4.1.2.30\n",
            "Uninstalling opencv-contrib-python-4.1.2.30:\n",
            "  Would remove:\n",
            "    /usr/local/lib/python3.6/dist-packages/opencv_contrib_python-4.1.2.30.dist-info/*\n",
            "Proceed (y/n)? y\n",
            "  Successfully uninstalled opencv-contrib-python-4.1.2.30\n",
            "Collecting opencv-python==3.4.2.16\n",
            "\u001b[?25l  Downloading https://files.pythonhosted.org/packages/fa/7d/5042b668a8ed41d2a80b8c172f5efcd572e3c046c75ae029407e19b7fc68/opencv_python-3.4.2.16-cp36-cp36m-manylinux1_x86_64.whl (25.0MB)\n",
            "\u001b[K     |████████████████████████████████| 25.0MB 1.5MB/s \n",
            "\u001b[?25hRequirement already satisfied: numpy>=1.11.3 in /usr/local/lib/python3.6/dist-packages (from opencv-python==3.4.2.16) (1.17.5)\n",
            "\u001b[31mERROR: albumentations 0.1.12 has requirement imgaug<0.2.7,>=0.2.5, but you'll have imgaug 0.2.9 which is incompatible.\u001b[0m\n",
            "Installing collected packages: opencv-python\n",
            "Successfully installed opencv-python-3.4.2.16\n"
          ],
          "name": "stdout"
        },
        {
          "output_type": "display_data",
          "data": {
            "application/vnd.colab-display-data+json": {
              "pip_warning": {
                "packages": [
                  "cv2"
                ]
              }
            }
          },
          "metadata": {
            "tags": []
          }
        },
        {
          "output_type": "stream",
          "text": [
            "Collecting opencv-contrib-python==3.4.2.16\n",
            "\u001b[?25l  Downloading https://files.pythonhosted.org/packages/08/f1/66330f4042c4fb3b2d77a159db8e8916d9cdecc29bc8c1f56bc7f8a9bec9/opencv_contrib_python-3.4.2.16-cp36-cp36m-manylinux1_x86_64.whl (30.6MB)\n",
            "\u001b[K     |████████████████████████████████| 30.6MB 1.3MB/s \n",
            "\u001b[?25hRequirement already satisfied: numpy>=1.11.3 in /usr/local/lib/python3.6/dist-packages (from opencv-contrib-python==3.4.2.16) (1.17.5)\n",
            "Installing collected packages: opencv-contrib-python\n",
            "Successfully installed opencv-contrib-python-3.4.2.16\n"
          ],
          "name": "stdout"
        },
        {
          "output_type": "display_data",
          "data": {
            "application/vnd.colab-display-data+json": {
              "pip_warning": {
                "packages": [
                  "cv2"
                ]
              }
            }
          },
          "metadata": {
            "tags": []
          }
        }
      ]
    },
    {
      "cell_type": "code",
      "metadata": {
        "id": "urirt1eEVwBc",
        "colab_type": "code",
        "outputId": "5fffcd0f-8e11-42ef-bf30-770515d48da2",
        "colab": {
          "base_uri": "https://localhost:8080/",
          "height": 34
        }
      },
      "source": [
        "from google.colab import drive\n",
        "drive.mount('/content/drive')"
      ],
      "execution_count": 1,
      "outputs": [
        {
          "output_type": "stream",
          "text": [
            "Drive already mounted at /content/drive; to attempt to forcibly remount, call drive.mount(\"/content/drive\", force_remount=True).\n"
          ],
          "name": "stdout"
        }
      ]
    },
    {
      "cell_type": "code",
      "metadata": {
        "id": "KeYW3mMUVxDG",
        "colab_type": "code",
        "colab": {}
      },
      "source": [
        "mypath25 = \"/content/drive/My Drive/Colab Notebooks/Shallow to Deep Representation/LAB1/gtsrb-german-traffic-sign/Train/25\""
      ],
      "execution_count": 0,
      "outputs": []
    },
    {
      "cell_type": "code",
      "metadata": {
        "id": "TIfXU2zAWPDv",
        "colab_type": "code",
        "colab": {}
      },
      "source": [
        "# This is supposed to load all images from dataset\n",
        "from os import listdir\n",
        "from os.path import isfile, join\n",
        "from google.colab.patches import cv2_imshow\n",
        "import numpy\n",
        "import cv2\n",
        "import math\n",
        "import matplotlib.pyplot as plt\n",
        "import numpy as np\n",
        "import random"
      ],
      "execution_count": 0,
      "outputs": []
    },
    {
      "cell_type": "code",
      "metadata": {
        "id": "IAV7sVfH9Ij4",
        "colab_type": "code",
        "outputId": "bb598b69-74b6-47a1-b461-febdf0149e47",
        "colab": {
          "base_uri": "https://localhost:8080/",
          "height": 34
        }
      },
      "source": [
        "onlyfiles = [ f for f in listdir(mypath25) if isfile(join(mypath25,f)) ]\n",
        "images = []\n",
        "n = 0\n",
        "for name in onlyfiles:\n",
        "  images.append(cv2.imread( join(mypath25,name)))\n",
        "  #print(cv2.imread( join(mypath,name)))\n",
        "\n",
        "images25 = images\n",
        "len(images25)\n"
      ],
      "execution_count": 4,
      "outputs": [
        {
          "output_type": "execute_result",
          "data": {
            "text/plain": [
              "1500"
            ]
          },
          "metadata": {
            "tags": []
          },
          "execution_count": 4
        }
      ]
    },
    {
      "cell_type": "code",
      "metadata": {
        "id": "60JriReRGe56",
        "colab_type": "code",
        "outputId": "d0877a87-3bc9-4624-cbc4-cf3edb3369c2",
        "colab": {
          "base_uri": "https://localhost:8080/",
          "height": 154
        }
      },
      "source": [
        "# Print two random images from the folder\n",
        "rand1 = random.randint(0, len(images25))\n",
        "rand2 = random.randint(0, len(images25))\n",
        "\n",
        "img1 = images25[rand1]\n",
        "img2 = images25[rand2]\n",
        "\n",
        "cv2_imshow(img1)\n",
        "cv2_imshow(img2)"
      ],
      "execution_count": 5,
      "outputs": [
        {
          "output_type": "display_data",
          "data": {
            "image/png": "[encoded data removed]",
            "text/plain": [
              "<PIL.Image.Image image mode=RGB size=57x53 at 0x7F2338FE6C18>"
            ]
          },
          "metadata": {
            "tags": []
          }
        },
        {
          "output_type": "display_data",
          "data": {
            "image/png": "[encoded data removed]",
            "text/plain": [
              "<PIL.Image.Image image mode=RGB size=95x84 at 0x7F2338F0CCC0>"
            ]
          },
          "metadata": {
            "tags": []
          }
        }
      ]
    },
    {
      "cell_type": "markdown",
      "metadata": {
        "id": "A_Vyftu9Hnes",
        "colab_type": "text"
      },
      "source": [
        "Now we will compute the matches between these two images. To implement this, we will use the FLANN based matcher, since this one is faster."
      ]
    },
    {
      "cell_type": "code",
      "metadata": {
        "id": "vOvYtvEQBWOB",
        "colab_type": "code",
        "outputId": "5ebaf332-2539-4aa6-a2d5-eb44ef04efc0",
        "colab": {
          "base_uri": "https://localhost:8080/",
          "height": 253
        }
      },
      "source": [
        "# FLANN parameters\n",
        "FLANN_INDEX_KDTREE = 1\n",
        "index_params = dict(algorithm = FLANN_INDEX_KDTREE, trees = 5)\n",
        "search_params = dict(checks=100)\n",
        "\n",
        "# Prepare images\n",
        "sift = cv2.xfeatures2d.SIFT_create()\n",
        "kp1, des1 = sift.detectAndCompute(img1,None)\n",
        "kp2, des2 = sift.detectAndCompute(img2,None)\n",
        "\n",
        "# Load FLANN\n",
        "flann = cv2.FlannBasedMatcher(index_params,search_params)\n",
        "\n",
        "# Compute matches\n",
        "matches = flann.knnMatch(des1,des2,k=2)\n",
        "# Need to draw only good matches, so create a mask\n",
        "matchesMask = [[0,0] for i in range(len(matches))]\n",
        "# ratio test as per Lowe's paper\n",
        "for i,(m,n) in enumerate(matches):\n",
        "    if m.distance < 0.7*n.distance:\n",
        "        matchesMask[i]=[1,0]\n",
        "draw_params = dict(matchColor = (0,255,0),\n",
        "                   singlePointColor = (255,0,0),\n",
        "                   matchesMask = matchesMask,\n",
        "                   flags = cv2.DrawMatchesFlags_DEFAULT)\n",
        "img3 = cv2.drawMatchesKnn(img1,kp1,img2,kp2,matches,None,**draw_params)\n",
        "plt.imshow(img3,),plt.show()\n",
        "\n"
      ],
      "execution_count": 6,
      "outputs": [
        {
          "output_type": "display_data",
          "data": {
            "image/png": "[encoded data removed]",
            "text/plain": [
              "<Figure size 432x288 with 1 Axes>"
            ]
          },
          "metadata": {
            "tags": []
          }
        },
        {
          "output_type": "execute_result",
          "data": {
            "text/plain": [
              "(<matplotlib.image.AxesImage at 0x7f233868f080>, None)"
            ]
          },
          "metadata": {
            "tags": []
          },
          "execution_count": 6
        }
      ]
    },
    {
      "cell_type": "markdown",
      "metadata": {
        "id": "cxHCw7zUSYMs",
        "colab_type": "text"
      },
      "source": [
        "Once we have the matches, we are going to consider that two images are very similar if they have a **high number of matches**. \\\\\n"
      ]
    },
    {
      "cell_type": "code",
      "metadata": {
        "id": "vAlEVYC7nstO",
        "colab_type": "code",
        "outputId": "216d8ba3-faa1-4370-a360-4be1c66aec98",
        "colab": {
          "base_uri": "https://localhost:8080/",
          "height": 34
        }
      },
      "source": [
        "# Get number of matches\n",
        "print(len(matches))"
      ],
      "execution_count": 7,
      "outputs": [
        {
          "output_type": "stream",
          "text": [
            "7\n"
          ],
          "name": "stdout"
        }
      ]
    },
    {
      "cell_type": "markdown",
      "metadata": {
        "id": "i5amX-oLSwbv",
        "colab_type": "text"
      },
      "source": [
        "Now that we have a way of loading images and printing a similarity metric (number of matches), we are going to try to see if the number of matches between two images of **the same family** can be lower than the matches between two images of **a different family membership**."
      ]
    },
    {
      "cell_type": "code",
      "metadata": {
        "id": "GgSuFwK7qjD_",
        "colab_type": "code",
        "colab": {}
      },
      "source": [
        "# Folders selected are 25 and 10. (These numbers could be different)\n",
        "mypath25 = \"/content/drive/My Drive/Colab Notebooks/Shallow to Deep Representation/LAB1/gtsrb-german-traffic-sign/Train/25\"\n",
        "mypath10 = \"/content/drive/My Drive/Colab Notebooks/Shallow to Deep Representation/LAB1/gtsrb-german-traffic-sign/Train/10\"\n"
      ],
      "execution_count": 0,
      "outputs": []
    },
    {
      "cell_type": "code",
      "metadata": {
        "id": "ebTvTzn7YT25",
        "colab_type": "code",
        "colab": {}
      },
      "source": [
        "# Load all images from the two above-mentioned folders\n",
        "onlyfiles25 = [ f for f in listdir(mypath25) if isfile(join(mypath25,f)) ]\n",
        "images25 = []\n",
        "n = 0\n",
        "for name in onlyfiles25:\n",
        "  images25.append(cv2.imread( join(mypath25,name)))\n",
        "  #print(cv2.imread( join(mypath,name)))\n",
        "\n",
        "onlyfiles10 = [ f for f in listdir(mypath10) if isfile(join(mypath10,f)) ]\n",
        "images10 = []\n",
        "n = 0\n",
        "for name in onlyfiles10:\n",
        "  images10.append(cv2.imread( join(mypath10,name)))\n",
        "  #print(cv2.imread( join(mypath,name)))\n",
        "\n"
      ],
      "execution_count": 0,
      "outputs": []
    },
    {
      "cell_type": "code",
      "metadata": {
        "id": "MqrZKsE9vz2t",
        "colab_type": "code",
        "colab": {}
      },
      "source": [
        "# Print two random images from the same folder\n",
        "rand1 = random.randint(0, len(images25))\n",
        "rand2 = random.randint(0, len(images25))\n",
        "\n",
        "img1 = images25[rand1]\n",
        "img2 = images25[rand2]\n",
        "\n",
        "cv2_imshow(img1)\n",
        "cv2_imshow(img2)\n",
        "\n",
        "# Print a random image from the other folder\n",
        "rand3 = random.randint(0, len(images10))\n",
        "\n",
        "img3 = images10[rand3]\n",
        "\n",
        "cv2_imshow(img3)"
      ],
      "execution_count": 0,
      "outputs": []
    },
    {
      "cell_type": "code",
      "metadata": {
        "id": "yBjqS9TAwT6Q",
        "colab_type": "code",
        "outputId": "f8955a57-2380-46d9-862a-33ad6c50b215",
        "colab": {
          "base_uri": "https://localhost:8080/",
          "height": 102
        }
      },
      "source": [
        "# FLANN parameters\n",
        "FLANN_INDEX_KDTREE = 1\n",
        "index_params = dict(algorithm = FLANN_INDEX_KDTREE, trees = 5)\n",
        "search_params = dict(checks=100)\n",
        "\n",
        "# Prepare images\n",
        "sift = cv2.xfeatures2d.SIFT_create()\n",
        "kp1, des1 = sift.detectAndCompute(img1,None)\n",
        "kp2, des2 = sift.detectAndCompute(img2,None)\n",
        "kp3, des3 = sift.detectAndCompute(img3, None)\n",
        "\n",
        "# Load FLANN\n",
        "flann1 = cv2.FlannBasedMatcher(index_params,search_params)\n",
        "flann2 = cv2.FlannBasedMatcher(index_params,search_params)\n",
        "\n",
        "# Compute matches\n",
        "matches12 = flann1.knnMatch(des1,des2,k=2)\n",
        "matches23 = flann2.knnMatch(des2, des3, k =3)\n",
        "\n",
        "if(len(matches23)-len(matches12))>0:\n",
        "  print(\"There are more matches between images from a different class. Thesis proved!\\n\")\n",
        "  print(\"{} matches between images of different families vs {} matches between images of the same class.\".format(len(matches23), len(matches12)))\n",
        "if(len(matches23)-len(matches12))<0:\n",
        "  print(\"There are more matches between images from the same class. Retry running the code!\\n\")\n",
        "  print(\"{} matches between images of different families vs {} matches between images of the same class.\".format(len(matches23), len(matches12)))\n",
        "else:\n",
        "  print(\" There are the same number of matches for the three images. Retry running the code!\\n\")\n",
        "\n"
      ],
      "execution_count": 10,
      "outputs": [
        {
          "output_type": "stream",
          "text": [
            "There are more matches between images from a different class. Thesis proved!\n",
            "\n",
            "102 matches between images of different families vs 7 matches between images of the same class.\n",
            " There are the same number of matches for the three images. Retry running the code!\n",
            "\n"
          ],
          "name": "stdout"
        }
      ]
    },
    {
      "cell_type": "code",
      "metadata": {
        "id": "KvgLSu4CwwbS",
        "colab_type": "code",
        "colab": {}
      },
      "source": [
        ""
      ],
      "execution_count": 0,
      "outputs": []
    }
  ]
}